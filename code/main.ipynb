{
 "cells": [
  {
   "cell_type": "code",
   "execution_count": null,
   "metadata": {},
   "outputs": [],
   "source": [
    "from hyperopt import fmin, tpe, hp\n",
    "import numpy as np\n",
    "from ogb.linkproppred import DglLinkPropPredDataset, Evaluator\n",
    "\n",
    "evaluator = Evaluator(name='ogbl-ddi')"
   ]
  },
  {
   "cell_type": "code",
   "execution_count": null,
   "metadata": {},
   "outputs": [],
   "source": [
    "def evaluate_hits(evaluator, pos_valid_pred, neg_valid_pred, pos_test_pred, neg_test_pred):\n",
    "    results = {}\n",
    "    for K in [20, 50, 100]:\n",
    "        evaluator.K = K\n",
    "        valid_hits = evaluator.eval({\n",
    "            'y_pred_pos': pos_valid_pred,\n",
    "            'y_pred_neg': neg_valid_pred,\n",
    "        })[f'hits@{K}']\n",
    "        #np.save('final_val_pos.npy',pos_valid_pred)\n",
    "        #np.save('final_val_neg.npy',neg_valid_pred) \n",
    "        \n",
    "        test_hits = evaluator.eval({\n",
    "            'y_pred_pos': pos_test_pred,\n",
    "            'y_pred_neg': neg_test_pred,\n",
    "        })[f'hits@{K}']\n",
    "        #np.save('final_test_pos.npy',pos_test_pred)\n",
    "        #np.save('psg_test_neg.npy',neg_test_pred)\n",
    "        results[f'Hits@{K}'] = (valid_hits, test_hits)\n",
    "\n",
    "    return results"
   ]
  },
  {
   "cell_type": "code",
   "execution_count": null,
   "metadata": {},
   "outputs": [],
   "source": [
    "# Load scores\n",
    "psg_val_pos = np.load('psg_val_pos.npy')\n",
    "psg_val_neg = np.load('psg_val_neg.npy')\n",
    "psg_test_pos = np.load('psg_test_pos.npy')\n",
    "psg_test_neg = np.load('psg_test_neg.npy')\n",
    "\n",
    "agdn_val_pos = np.load('agdn_val_pos.npy')\n",
    "agdn_val_neg = np.load('agdn_val_neg.npy')\n",
    "agdn_test_pos = np.load('agdn_test_pos.npy')\n",
    "agdn_test_neg = np.load('agdn_test_neg.npy')\n",
    "\n",
    "gidn_val_pos = np.load('gidn_val_pos.npy')\n",
    "gidn_val_neg = np.load('gidn_val_neg.npy')\n",
    "gidn_test_pos = np.load('gidn_test_pos.npy')\n",
    "gidn_test_neg = np.load('gidn_test_neg.npy')"
   ]
  },
  {
   "cell_type": "code",
   "execution_count": null,
   "metadata": {},
   "outputs": [],
   "source": [
    "def objective(params):\n",
    "    x, y, z = params\n",
    "    final_val_pos = x * agdn_val_pos + y * psg_val_pos + z * gidn_val_pos\n",
    "    final_val_neg = x * agdn_val_neg + y * psg_val_neg + z * gidn_val_neg\n",
    "    final_test_pos = x * agdn_test_pos + y * psg_test_pos + z * gidn_test_pos\n",
    "    final_test_neg = x * agdn_test_neg + y * psg_test_neg + z * gidn_test_neg\n",
    "\n",
    "    results = evaluate_hits(\n",
    "            evaluator,\n",
    "            final_val_pos,\n",
    "            final_val_neg,\n",
    "            final_test_pos,\n",
    "            final_test_neg)\n",
    "    \n",
    "    ensemble_scores = results.get('Hits@20')[1]\n",
    "\n",
    "    return -ensemble_scores\n",
    "\n",
    "space = [hp.uniform('x', 0, 1), hp.uniform('y', 0, 1), hp.uniform('z', 0, 1)]\n",
    "\n",
    "best = fmin(fn=objective, space=space, algo=tpe.suggest, max_evals=100)\n",
    "\n",
    "best_w1 = best['x']\n",
    "best_w2 = best['y']\n",
    "best_w3 = best['z']\n",
    "\n",
    "print(f\"Model 1 Weight: {best_w1}\")\n",
    "print(f\"Model 2 Weight: {best_w2}\")\n",
    "print(f\"Model 3 Weight: {best_w3}\")"
   ]
  },
  {
   "cell_type": "code",
   "execution_count": null,
   "metadata": {},
   "outputs": [],
   "source": [
    "x = np.array(best_w1)\n",
    "y = np.array(best_w2)\n",
    "z = np.array(best_w3)\n",
    "\n",
    "total = x + y + z\n",
    "x /= total\n",
    "y /= total\n",
    "z /= total\n",
    "final_val_pos = x * agdn_val_pos + y * psg_val_pos + z * gidn_val_pos\n",
    "final_val_neg = x * agdn_val_neg + y * psg_val_neg + z * gidn_val_neg\n",
    "final_test_pos = x * agdn_test_pos + y * psg_test_pos + z * gidn_test_pos\n",
    "final_test_neg = x * agdn_test_neg + y * psg_test_neg + z * gidn_test_neg\n",
    "\n",
    "results = evaluate_hits(\n",
    "            evaluator,\n",
    "            final_val_pos,\n",
    "            final_val_neg,\n",
    "            final_test_pos,\n",
    "            final_test_neg)\n",
    "print(results)"
   ]
  }
 ],
 "metadata": {
  "kernelspec": {
   "display_name": "Python 3.9.12 64-bit ('anaconda3')",
   "language": "python",
   "name": "python3"
  },
  "language_info": {
   "codemirror_mode": {
    "name": "ipython",
    "version": 3
   },
   "file_extension": ".py",
   "mimetype": "text/x-python",
   "name": "python",
   "nbconvert_exporter": "python",
   "pygments_lexer": "ipython3",
   "version": "3.9.12"
  },
  "vscode": {
   "interpreter": {
    "hash": "ecb31ad952ed2e015eb481ccdebbb86f32ce8481140f0feebd9ada46d7d01675"
   }
  }
 },
 "nbformat": 4,
 "nbformat_minor": 2
}
