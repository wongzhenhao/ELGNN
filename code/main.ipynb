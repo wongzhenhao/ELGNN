{
 "cells": [
  {
   "cell_type": "code",
   "execution_count": 1,
   "metadata": {},
   "outputs": [
    {
     "name": "stderr",
     "output_type": "stream",
     "text": [
      "Using backend: pytorch\n"
     ]
    }
   ],
   "source": [
    "from hyperopt import fmin, tpe, hp\n",
    "import numpy as np\n",
    "from ogb.linkproppred import DglLinkPropPredDataset, Evaluator\n",
    "evaluator = Evaluator(name='ogbl-ddi')"
   ]
  },
  {
   "cell_type": "code",
   "execution_count": 2,
   "metadata": {},
   "outputs": [],
   "source": [
    "def evaluate_hits(evaluator, pos_valid_pred, neg_valid_pred, pos_test_pred, neg_test_pred):\n",
    "    results = {}\n",
    "    for K in [20, 50, 100]:\n",
    "        evaluator.K = K\n",
    "        valid_hits = evaluator.eval({\n",
    "            'y_pred_pos': pos_valid_pred,\n",
    "            'y_pred_neg': neg_valid_pred,\n",
    "        })[f'hits@{K}']\n",
    "        #np.save('final_val_pos.npy',pos_valid_pred)\n",
    "        #np.save('final_val_neg.npy',neg_valid_pred) \n",
    "        test_hits = evaluator.eval({\n",
    "            'y_pred_pos': pos_test_pred,\n",
    "            'y_pred_neg': neg_test_pred,\n",
    "        })[f'hits@{K}']\n",
    "        #np.save('final_test_pos.npy',pos_test_pred)\n",
    "        #np.save('psg_test_neg.npy',neg_test_pred)\n",
    "        results[f'Hits@{K}'] = (valid_hits, test_hits)\n",
    "\n",
    "    return results"
   ]
  },
  {
   "cell_type": "code",
   "execution_count": 3,
   "metadata": {},
   "outputs": [
    {
     "name": "stdout",
     "output_type": "stream",
     "text": [
      "100%|██████████| 100/100 [00:05<00:00, 19.09trial/s, best loss: -0.9796837192577665]\n",
      "最佳权重组合：\n",
      "Model 1 Weight: 0.9029436325053978\n",
      "Model 2 Weight: 0.14976987306004058\n",
      "Model 3 Weight: 0.5799251579825914\n"
     ]
    }
   ],
   "source": [
    "\n",
    "\n",
    "# 模拟三个模型的预测分数（这里使用随机数代替）\n",
    "psg_val_pos=np.load('psg_val_pos.npy')\n",
    "psg_val_neg=np.load('psg_val_neg.npy')\n",
    "psg_test_pos=np.load('psg_test_pos.npy')\n",
    "psg_test_neg=np.load('psg_test_neg.npy')\n",
    "\n",
    "agdn_val_pos=np.load('agdn_val_pos.npy')\n",
    "agdn_val_neg=np.load('agdn_val_neg.npy')\n",
    "agdn_test_pos=np.load('agdn_test_pos.npy')\n",
    "agdn_test_neg=np.load('agdn_test_neg.npy')\n",
    "\n",
    "gidn_val_pos=np.load('gidn_val_pos.npy')\n",
    "gidn_val_neg=np.load('gidn_val_neg.npy')\n",
    "gidn_test_pos=np.load('gidn_test_pos.npy')\n",
    "gidn_test_neg=np.load('gidn_test_neg.npy')\n",
    "\n",
    "# 定义要优化的目标函数\n",
    "def objective(params):\n",
    "    x,y,z = params\n",
    "    final_val_pos=x*agdn_val_pos+y*psg_val_pos+z*gidn_val_pos\n",
    "    final_val_neg=x*agdn_val_neg+y*psg_val_neg+z*gidn_val_neg\n",
    "    final_test_pos=x*agdn_test_pos+y*psg_test_pos+z*gidn_test_pos\n",
    "    final_test_neg=x*agdn_test_neg+y*psg_test_neg+z*gidn_test_neg\n",
    "    results = evaluate_hits(\n",
    "            evaluator,\n",
    "            final_val_pos,\n",
    "            final_val_neg,\n",
    "            final_test_pos,\n",
    "            final_test_neg)\n",
    "    \n",
    "    ensemble_scores = results.get('Hits@20')[1]\n",
    "\n",
    "    return -ensemble_scores\n",
    "\n",
    "# 定义参数空间\n",
    "space = [hp.uniform('x', 0, 1), hp.uniform('y', 0, 1), hp.uniform('z', 0, 1)]\n",
    "\n",
    "# 使用TPE算法来找到最佳的权重组合\n",
    "best = fmin(fn=objective, space=space, algo=tpe.suggest, max_evals=100)\n",
    "\n",
    "# 输出最佳的权重组合\n",
    "best_w1 = best['x']\n",
    "best_w2 = best['y']\n",
    "best_w3 = best['z']\n",
    "\n",
    "print(\"最佳权重组合：\")\n",
    "print(f\"Model 1 Weight: {best_w1}\")\n",
    "print(f\"Model 2 Weight: {best_w2}\")\n",
    "print(f\"Model 3 Weight: {best_w3}\")"
   ]
  },
  {
   "cell_type": "code",
   "execution_count": 6,
   "metadata": {},
   "outputs": [
    {
     "name": "stdout",
     "output_type": "stream",
     "text": [
      "{'Hits@20': (0.9095955471986455, 0.9796837192577665), 'Hits@50': (0.9883286263287612, 0.9909056176913453), 'Hits@100': (0.9945014195926256, 0.9943216294975616)}\n"
     ]
    }
   ],
   "source": [
    "x=np.array(best_w1)\n",
    "y=np.array(best_w2)\n",
    "z=np.array(best_w3)\n",
    "total=x+y+z\n",
    "x/=total\n",
    "y/=total\n",
    "z/=total\n",
    "final_val_pos=x*agdn_val_pos+y*psg_val_pos+z*gidn_val_pos\n",
    "final_val_neg=x*agdn_val_neg+y*psg_val_neg+z*gidn_val_neg\n",
    "final_test_pos=x*agdn_test_pos+y*psg_test_pos+z*gidn_test_pos\n",
    "final_test_neg=x*agdn_test_neg+y*psg_test_neg+z*gidn_test_neg\n",
    "\n",
    "results = evaluate_hits(\n",
    "            evaluator,\n",
    "            final_val_pos,\n",
    "            final_val_neg,\n",
    "            final_test_pos,\n",
    "            final_test_neg)\n",
    "print(results)"
   ]
  }
 ],
 "metadata": {
  "kernelspec": {
   "display_name": "py38",
   "language": "python",
   "name": "python3"
  },
  "language_info": {
   "codemirror_mode": {
    "name": "ipython",
    "version": 3
   },
   "file_extension": ".py",
   "mimetype": "text/x-python",
   "name": "python",
   "nbconvert_exporter": "python",
   "pygments_lexer": "ipython3",
   "version": "3.8.16"
  }
 },
 "nbformat": 4,
 "nbformat_minor": 2
}
